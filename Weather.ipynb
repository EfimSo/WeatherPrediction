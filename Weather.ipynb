{
 "cells": [
  {
   "cell_type": "code",
   "execution_count": 222,
   "id": "9a115f64",
   "metadata": {},
   "outputs": [],
   "source": [
    "import pandas as pd\n",
    "import numpy as np\n",
    "import matplotlib.pyplot as plt"
   ]
  },
  {
   "cell_type": "code",
   "execution_count": 223,
   "id": "06905eeb-329b-4baf-8c8c-877248296a39",
   "metadata": {},
   "outputs": [],
   "source": [
    "weather = pd.read_csv(\"NOAA_weather.csv\", index_col=\"DATE\")"
   ]
  },
  {
   "cell_type": "code",
   "execution_count": 224,
   "id": "08517c6f-7f32-44b1-87c1-eee4e7e12e8d",
   "metadata": {},
   "outputs": [
    {
     "data": {
      "text/html": [
       "<div>\n",
       "<style scoped>\n",
       "    .dataframe tbody tr th:only-of-type {\n",
       "        vertical-align: middle;\n",
       "    }\n",
       "\n",
       "    .dataframe tbody tr th {\n",
       "        vertical-align: top;\n",
       "    }\n",
       "\n",
       "    .dataframe thead tr th {\n",
       "        text-align: left;\n",
       "    }\n",
       "\n",
       "    .dataframe thead tr:last-of-type th {\n",
       "        text-align: right;\n",
       "    }\n",
       "</style>\n",
       "<table border=\"1\" class=\"dataframe\">\n",
       "  <thead>\n",
       "    <tr>\n",
       "      <th></th>\n",
       "      <th colspan=\"8\" halign=\"left\">LATITUDE</th>\n",
       "      <th colspan=\"2\" halign=\"left\">LONGITUDE</th>\n",
       "      <th>...</th>\n",
       "      <th colspan=\"2\" halign=\"left\">WSFG</th>\n",
       "      <th colspan=\"8\" halign=\"left\">WSFM</th>\n",
       "    </tr>\n",
       "    <tr>\n",
       "      <th></th>\n",
       "      <th>count</th>\n",
       "      <th>mean</th>\n",
       "      <th>std</th>\n",
       "      <th>min</th>\n",
       "      <th>25%</th>\n",
       "      <th>50%</th>\n",
       "      <th>75%</th>\n",
       "      <th>max</th>\n",
       "      <th>count</th>\n",
       "      <th>mean</th>\n",
       "      <th>...</th>\n",
       "      <th>75%</th>\n",
       "      <th>max</th>\n",
       "      <th>count</th>\n",
       "      <th>mean</th>\n",
       "      <th>std</th>\n",
       "      <th>min</th>\n",
       "      <th>25%</th>\n",
       "      <th>50%</th>\n",
       "      <th>75%</th>\n",
       "      <th>max</th>\n",
       "    </tr>\n",
       "    <tr>\n",
       "      <th>NAME</th>\n",
       "      <th></th>\n",
       "      <th></th>\n",
       "      <th></th>\n",
       "      <th></th>\n",
       "      <th></th>\n",
       "      <th></th>\n",
       "      <th></th>\n",
       "      <th></th>\n",
       "      <th></th>\n",
       "      <th></th>\n",
       "      <th></th>\n",
       "      <th></th>\n",
       "      <th></th>\n",
       "      <th></th>\n",
       "      <th></th>\n",
       "      <th></th>\n",
       "      <th></th>\n",
       "      <th></th>\n",
       "      <th></th>\n",
       "      <th></th>\n",
       "      <th></th>\n",
       "    </tr>\n",
       "  </thead>\n",
       "  <tbody>\n",
       "    <tr>\n",
       "      <th>AUSTIN BERGSTROM INTERNATIONAL AIRPORT, TX US</th>\n",
       "      <td>10841.0</td>\n",
       "      <td>30.18311</td>\n",
       "      <td>3.552878e-15</td>\n",
       "      <td>30.18311</td>\n",
       "      <td>30.18311</td>\n",
       "      <td>30.18311</td>\n",
       "      <td>30.18311</td>\n",
       "      <td>30.18311</td>\n",
       "      <td>10841.0</td>\n",
       "      <td>-97.67989</td>\n",
       "      <td>...</td>\n",
       "      <td>NaN</td>\n",
       "      <td>NaN</td>\n",
       "      <td>0.0</td>\n",
       "      <td>NaN</td>\n",
       "      <td>NaN</td>\n",
       "      <td>NaN</td>\n",
       "      <td>NaN</td>\n",
       "      <td>NaN</td>\n",
       "      <td>NaN</td>\n",
       "      <td>NaN</td>\n",
       "    </tr>\n",
       "    <tr>\n",
       "      <th>CHICAGO MIDWAY AIRPORT, IL US</th>\n",
       "      <td>9807.0</td>\n",
       "      <td>41.78412</td>\n",
       "      <td>1.421158e-14</td>\n",
       "      <td>41.78412</td>\n",
       "      <td>41.78412</td>\n",
       "      <td>41.78412</td>\n",
       "      <td>41.78412</td>\n",
       "      <td>41.78412</td>\n",
       "      <td>9807.0</td>\n",
       "      <td>-87.75514</td>\n",
       "      <td>...</td>\n",
       "      <td>NaN</td>\n",
       "      <td>NaN</td>\n",
       "      <td>0.0</td>\n",
       "      <td>NaN</td>\n",
       "      <td>NaN</td>\n",
       "      <td>NaN</td>\n",
       "      <td>NaN</td>\n",
       "      <td>NaN</td>\n",
       "      <td>NaN</td>\n",
       "      <td>NaN</td>\n",
       "    </tr>\n",
       "    <tr>\n",
       "      <th>DENVER INTERNATIONAL AIRPORT, CO US</th>\n",
       "      <td>10624.0</td>\n",
       "      <td>39.84657</td>\n",
       "      <td>0.000000e+00</td>\n",
       "      <td>39.84657</td>\n",
       "      <td>39.84657</td>\n",
       "      <td>39.84657</td>\n",
       "      <td>39.84657</td>\n",
       "      <td>39.84657</td>\n",
       "      <td>10624.0</td>\n",
       "      <td>-104.65623</td>\n",
       "      <td>...</td>\n",
       "      <td>NaN</td>\n",
       "      <td>NaN</td>\n",
       "      <td>0.0</td>\n",
       "      <td>NaN</td>\n",
       "      <td>NaN</td>\n",
       "      <td>NaN</td>\n",
       "      <td>NaN</td>\n",
       "      <td>NaN</td>\n",
       "      <td>NaN</td>\n",
       "      <td>NaN</td>\n",
       "    </tr>\n",
       "    <tr>\n",
       "      <th>MIAMI OPA LOCKA AIRPORT, FL US</th>\n",
       "      <td>9421.0</td>\n",
       "      <td>25.91017</td>\n",
       "      <td>3.552902e-15</td>\n",
       "      <td>25.91017</td>\n",
       "      <td>25.91017</td>\n",
       "      <td>25.91017</td>\n",
       "      <td>25.91017</td>\n",
       "      <td>25.91017</td>\n",
       "      <td>9421.0</td>\n",
       "      <td>-80.28283</td>\n",
       "      <td>...</td>\n",
       "      <td>NaN</td>\n",
       "      <td>NaN</td>\n",
       "      <td>0.0</td>\n",
       "      <td>NaN</td>\n",
       "      <td>NaN</td>\n",
       "      <td>NaN</td>\n",
       "      <td>NaN</td>\n",
       "      <td>NaN</td>\n",
       "      <td>NaN</td>\n",
       "      <td>NaN</td>\n",
       "    </tr>\n",
       "    <tr>\n",
       "      <th>NY CITY CENTRAL PARK, NY US</th>\n",
       "      <td>16143.0</td>\n",
       "      <td>40.77898</td>\n",
       "      <td>7.105647e-15</td>\n",
       "      <td>40.77898</td>\n",
       "      <td>40.77898</td>\n",
       "      <td>40.77898</td>\n",
       "      <td>40.77898</td>\n",
       "      <td>40.77898</td>\n",
       "      <td>16143.0</td>\n",
       "      <td>-73.96925</td>\n",
       "      <td>...</td>\n",
       "      <td>25.3</td>\n",
       "      <td>64.4</td>\n",
       "      <td>683.0</td>\n",
       "      <td>21.795608</td>\n",
       "      <td>7.220375</td>\n",
       "      <td>6.9</td>\n",
       "      <td>16.1</td>\n",
       "      <td>21.0</td>\n",
       "      <td>25.1</td>\n",
       "      <td>51.0</td>\n",
       "    </tr>\n",
       "  </tbody>\n",
       "</table>\n",
       "<p>5 rows × 208 columns</p>\n",
       "</div>"
      ],
      "text/plain": [
       "                                              LATITUDE            \\\n",
       "                                                 count      mean   \n",
       "NAME                                                               \n",
       "AUSTIN BERGSTROM INTERNATIONAL AIRPORT, TX US  10841.0  30.18311   \n",
       "CHICAGO MIDWAY AIRPORT, IL US                   9807.0  41.78412   \n",
       "DENVER INTERNATIONAL AIRPORT, CO US            10624.0  39.84657   \n",
       "MIAMI OPA LOCKA AIRPORT, FL US                  9421.0  25.91017   \n",
       "NY CITY CENTRAL PARK, NY US                    16143.0  40.77898   \n",
       "\n",
       "                                                                       \\\n",
       "                                                        std       min   \n",
       "NAME                                                                    \n",
       "AUSTIN BERGSTROM INTERNATIONAL AIRPORT, TX US  3.552878e-15  30.18311   \n",
       "CHICAGO MIDWAY AIRPORT, IL US                  1.421158e-14  41.78412   \n",
       "DENVER INTERNATIONAL AIRPORT, CO US            0.000000e+00  39.84657   \n",
       "MIAMI OPA LOCKA AIRPORT, FL US                 3.552902e-15  25.91017   \n",
       "NY CITY CENTRAL PARK, NY US                    7.105647e-15  40.77898   \n",
       "\n",
       "                                                                             \\\n",
       "                                                    25%       50%       75%   \n",
       "NAME                                                                          \n",
       "AUSTIN BERGSTROM INTERNATIONAL AIRPORT, TX US  30.18311  30.18311  30.18311   \n",
       "CHICAGO MIDWAY AIRPORT, IL US                  41.78412  41.78412  41.78412   \n",
       "DENVER INTERNATIONAL AIRPORT, CO US            39.84657  39.84657  39.84657   \n",
       "MIAMI OPA LOCKA AIRPORT, FL US                 25.91017  25.91017  25.91017   \n",
       "NY CITY CENTRAL PARK, NY US                    40.77898  40.77898  40.77898   \n",
       "\n",
       "                                                        LONGITUDE             \\\n",
       "                                                    max     count       mean   \n",
       "NAME                                                                           \n",
       "AUSTIN BERGSTROM INTERNATIONAL AIRPORT, TX US  30.18311   10841.0  -97.67989   \n",
       "CHICAGO MIDWAY AIRPORT, IL US                  41.78412    9807.0  -87.75514   \n",
       "DENVER INTERNATIONAL AIRPORT, CO US            39.84657   10624.0 -104.65623   \n",
       "MIAMI OPA LOCKA AIRPORT, FL US                 25.91017    9421.0  -80.28283   \n",
       "NY CITY CENTRAL PARK, NY US                    40.77898   16143.0  -73.96925   \n",
       "\n",
       "                                               ...  WSFG         WSFM  \\\n",
       "                                               ...   75%   max  count   \n",
       "NAME                                           ...                      \n",
       "AUSTIN BERGSTROM INTERNATIONAL AIRPORT, TX US  ...   NaN   NaN    0.0   \n",
       "CHICAGO MIDWAY AIRPORT, IL US                  ...   NaN   NaN    0.0   \n",
       "DENVER INTERNATIONAL AIRPORT, CO US            ...   NaN   NaN    0.0   \n",
       "MIAMI OPA LOCKA AIRPORT, FL US                 ...   NaN   NaN    0.0   \n",
       "NY CITY CENTRAL PARK, NY US                    ...  25.3  64.4  683.0   \n",
       "\n",
       "                                                                               \\\n",
       "                                                    mean       std  min   25%   \n",
       "NAME                                                                            \n",
       "AUSTIN BERGSTROM INTERNATIONAL AIRPORT, TX US        NaN       NaN  NaN   NaN   \n",
       "CHICAGO MIDWAY AIRPORT, IL US                        NaN       NaN  NaN   NaN   \n",
       "DENVER INTERNATIONAL AIRPORT, CO US                  NaN       NaN  NaN   NaN   \n",
       "MIAMI OPA LOCKA AIRPORT, FL US                       NaN       NaN  NaN   NaN   \n",
       "NY CITY CENTRAL PARK, NY US                    21.795608  7.220375  6.9  16.1   \n",
       "\n",
       "                                                                 \n",
       "                                                50%   75%   max  \n",
       "NAME                                                             \n",
       "AUSTIN BERGSTROM INTERNATIONAL AIRPORT, TX US   NaN   NaN   NaN  \n",
       "CHICAGO MIDWAY AIRPORT, IL US                   NaN   NaN   NaN  \n",
       "DENVER INTERNATIONAL AIRPORT, CO US             NaN   NaN   NaN  \n",
       "MIAMI OPA LOCKA AIRPORT, FL US                  NaN   NaN   NaN  \n",
       "NY CITY CENTRAL PARK, NY US                    21.0  25.1  51.0  \n",
       "\n",
       "[5 rows x 208 columns]"
      ]
     },
     "execution_count": 224,
     "metadata": {},
     "output_type": "execute_result"
    }
   ],
   "source": [
    "weather.groupby(by=\"NAME\").describe(include=[np.number])"
   ]
  },
  {
   "cell_type": "code",
   "execution_count": 225,
   "id": "49795ebd",
   "metadata": {},
   "outputs": [
    {
     "name": "stderr",
     "output_type": "stream",
     "text": [
      "/tmp/ipykernel_264/3189744134.py:2: FutureWarning: Series.__getitem__ treating keys as positions is deprecated. In a future version, integer keys will always be treated as labels (consistent with DataFrame behavior). To access a value by position, use `ser.iloc[pos]`\n",
      "  station_names = [df[\"NAME\"][0] for df in stations]\n"
     ]
    },
    {
     "data": {
      "text/plain": [
       "['Austin Bergstrom International Airport, TX',\n",
       " 'Chicago Midway Airport, IL',\n",
       " 'Denver International Airport, CO',\n",
       " 'Miami Opa Locka Airport, FL',\n",
       " 'NY City Central Park, NY']"
      ]
     },
     "execution_count": 225,
     "metadata": {},
     "output_type": "execute_result"
    }
   ],
   "source": [
    "stations = [x for _, x in weather.groupby(\"NAME\")]\n",
    "station_names = [df[\"NAME\"][0] for df in stations]\n",
    "states = set([\"TX\", \"IL\", \"FL\", \"NY\", \"CO\"])\n",
    "station_names = list(map(lambda s: \" \".join(map(lambda w: w.capitalize() if w not in states else w, s.split(\" \")))[:-3], station_names))\n",
    "station_names\n"
   ]
  },
  {
   "cell_type": "code",
   "execution_count": 226,
   "id": "d1b3a0a7",
   "metadata": {},
   "outputs": [
    {
     "data": {
      "text/plain": [
       "STATION        0.00\n",
       "NAME           0.00\n",
       "LATITUDE       0.00\n",
       "LONGITUDE      0.00\n",
       "ELEVATION      0.00\n",
       "ACMH         100.00\n",
       "AWND          13.89\n",
       "FMTM          53.02\n",
       "PGTM          43.77\n",
       "PRCP           1.60\n",
       "PSUN          97.35\n",
       "SNOW          34.60\n",
       "SNWD          34.78\n",
       "TAVG          63.11\n",
       "TMAX           0.88\n",
       "TMIN           0.95\n",
       "TSUN          79.32\n",
       "WDF1          92.36\n",
       "WDF2          14.30\n",
       "WDF5          14.48\n",
       "WDFG          92.33\n",
       "WDFM          98.80\n",
       "WESD          99.99\n",
       "WSF1          92.36\n",
       "WSF2          14.30\n",
       "WSF5          14.40\n",
       "WSFG          92.29\n",
       "WSFM          98.80\n",
       "dtype: float64"
      ]
     },
     "execution_count": 226,
     "metadata": {},
     "output_type": "execute_result"
    }
   ],
   "source": [
    "# Percent null per column\n",
    "round(weather.apply(pd.isnull).sum()/weather.shape[0]*100, 2)"
   ]
  },
  {
   "cell_type": "code",
   "execution_count": 227,
   "id": "29e536b0",
   "metadata": {},
   "outputs": [
    {
     "name": "stdout",
     "output_type": "stream",
     "text": [
      "NY City Central Park, NY\n"
     ]
    },
    {
     "name": "stderr",
     "output_type": "stream",
     "text": [
      "/tmp/ipykernel_264/4207424753.py:8: FutureWarning: A value is trying to be set on a copy of a DataFrame or Series through chained assignment using an inplace method.\n",
      "The behavior will change in pandas 3.0. This inplace method will never work because the intermediate object on which we are setting values always behaves as a copy.\n",
      "\n",
      "For example, when doing 'df[col].method(value, inplace=True)', try using 'df.method({col: value}, inplace=True)' or df[col] = df[col].method(value) instead, to perform the operation inplace on the original object.\n",
      "\n",
      "\n",
      "  df[\"PRCP\"].fillna(0.0, inplace=True)\n",
      "/tmp/ipykernel_264/4207424753.py:8: FutureWarning: A value is trying to be set on a copy of a DataFrame or Series through chained assignment using an inplace method.\n",
      "The behavior will change in pandas 3.0. This inplace method will never work because the intermediate object on which we are setting values always behaves as a copy.\n",
      "\n",
      "For example, when doing 'df[col].method(value, inplace=True)', try using 'df.method({col: value}, inplace=True)' or df[col] = df[col].method(value) instead, to perform the operation inplace on the original object.\n",
      "\n",
      "\n",
      "  df[\"PRCP\"].fillna(0.0, inplace=True)\n",
      "/tmp/ipykernel_264/4207424753.py:8: FutureWarning: A value is trying to be set on a copy of a DataFrame or Series through chained assignment using an inplace method.\n",
      "The behavior will change in pandas 3.0. This inplace method will never work because the intermediate object on which we are setting values always behaves as a copy.\n",
      "\n",
      "For example, when doing 'df[col].method(value, inplace=True)', try using 'df.method({col: value}, inplace=True)' or df[col] = df[col].method(value) instead, to perform the operation inplace on the original object.\n",
      "\n",
      "\n",
      "  df[\"PRCP\"].fillna(0.0, inplace=True)\n",
      "/tmp/ipykernel_264/4207424753.py:8: FutureWarning: A value is trying to be set on a copy of a DataFrame or Series through chained assignment using an inplace method.\n",
      "The behavior will change in pandas 3.0. This inplace method will never work because the intermediate object on which we are setting values always behaves as a copy.\n",
      "\n",
      "For example, when doing 'df[col].method(value, inplace=True)', try using 'df.method({col: value}, inplace=True)' or df[col] = df[col].method(value) instead, to perform the operation inplace on the original object.\n",
      "\n",
      "\n",
      "  df[\"PRCP\"].fillna(0.0, inplace=True)\n",
      "/tmp/ipykernel_264/4207424753.py:8: FutureWarning: A value is trying to be set on a copy of a DataFrame or Series through chained assignment using an inplace method.\n",
      "The behavior will change in pandas 3.0. This inplace method will never work because the intermediate object on which we are setting values always behaves as a copy.\n",
      "\n",
      "For example, when doing 'df[col].method(value, inplace=True)', try using 'df.method({col: value}, inplace=True)' or df[col] = df[col].method(value) instead, to perform the operation inplace on the original object.\n",
      "\n",
      "\n",
      "  df[\"PRCP\"].fillna(0.0, inplace=True)\n"
     ]
    },
    {
     "data": {
      "text/html": [
       "<div>\n",
       "<style scoped>\n",
       "    .dataframe tbody tr th:only-of-type {\n",
       "        vertical-align: middle;\n",
       "    }\n",
       "\n",
       "    .dataframe tbody tr th {\n",
       "        vertical-align: top;\n",
       "    }\n",
       "\n",
       "    .dataframe thead th {\n",
       "        text-align: right;\n",
       "    }\n",
       "</style>\n",
       "<table border=\"1\" class=\"dataframe\">\n",
       "  <thead>\n",
       "    <tr style=\"text-align: right;\">\n",
       "      <th></th>\n",
       "      <th>PRCP</th>\n",
       "      <th>TMAX</th>\n",
       "      <th>TMIN</th>\n",
       "      <th>target</th>\n",
       "    </tr>\n",
       "    <tr>\n",
       "      <th>DATE</th>\n",
       "      <th></th>\n",
       "      <th></th>\n",
       "      <th></th>\n",
       "      <th></th>\n",
       "    </tr>\n",
       "  </thead>\n",
       "  <tbody>\n",
       "    <tr>\n",
       "      <th>1980-01-01</th>\n",
       "      <td>0.00</td>\n",
       "      <td>45.0</td>\n",
       "      <td>34.0</td>\n",
       "      <td>42.0</td>\n",
       "    </tr>\n",
       "    <tr>\n",
       "      <th>1980-01-02</th>\n",
       "      <td>0.00</td>\n",
       "      <td>42.0</td>\n",
       "      <td>34.0</td>\n",
       "      <td>38.0</td>\n",
       "    </tr>\n",
       "    <tr>\n",
       "      <th>1980-01-03</th>\n",
       "      <td>0.00</td>\n",
       "      <td>38.0</td>\n",
       "      <td>28.0</td>\n",
       "      <td>30.0</td>\n",
       "    </tr>\n",
       "    <tr>\n",
       "      <th>1980-01-04</th>\n",
       "      <td>0.00</td>\n",
       "      <td>30.0</td>\n",
       "      <td>21.0</td>\n",
       "      <td>32.0</td>\n",
       "    </tr>\n",
       "    <tr>\n",
       "      <th>1980-01-05</th>\n",
       "      <td>0.07</td>\n",
       "      <td>32.0</td>\n",
       "      <td>26.0</td>\n",
       "      <td>32.0</td>\n",
       "    </tr>\n",
       "  </tbody>\n",
       "</table>\n",
       "</div>"
      ],
      "text/plain": [
       "            PRCP  TMAX  TMIN  target\n",
       "DATE                                \n",
       "1980-01-01  0.00  45.0  34.0    42.0\n",
       "1980-01-02  0.00  42.0  34.0    38.0\n",
       "1980-01-03  0.00  38.0  28.0    30.0\n",
       "1980-01-04  0.00  30.0  21.0    32.0\n",
       "1980-01-05  0.07  32.0  26.0    32.0"
      ]
     },
     "execution_count": 227,
     "metadata": {},
     "output_type": "execute_result"
    }
   ],
   "source": [
    "processed = []\n",
    "for d in stations:\n",
    "    columns = ['PRCP', 'TMAX', 'TMIN'] # non-null numeric cols only\n",
    "    df = d[columns].copy()          \n",
    "    df.index = pd.to_datetime(df.index)\n",
    "    df[\"target\"] = df.shift(-1)[\"TMAX\"]     # make target the max temperature of next day\n",
    "    df = df.ffill()\n",
    "    df[\"PRCP\"].fillna(0.0, inplace=True)\n",
    "    processed.append(df)\n",
    "print(station_names[-1])\n",
    "processed[-1].head()"
   ]
  },
  {
   "cell_type": "code",
   "execution_count": 228,
   "id": "79e0f02b",
   "metadata": {},
   "outputs": [],
   "source": [
    "# First row has null temp vals\n",
    "processed[2].drop('1994-07-19',inplace=True)"
   ]
  },
  {
   "cell_type": "code",
   "execution_count": 229,
   "id": "82251909",
   "metadata": {},
   "outputs": [
    {
     "name": "stdout",
     "output_type": "stream",
     "text": [
      "Total null: 0.0%\n",
      "Total null: 0.0%\n",
      "Total null: 0.0%\n",
      "Total null: 0.0%\n",
      "Total null: 0.0%\n"
     ]
    }
   ],
   "source": [
    "for df in processed:\n",
    "    print(f\"Total null: {round(df.apply(pd.isnull).sum().sum()/df.shape[0]*100, 2)}%\")"
   ]
  },
  {
   "cell_type": "code",
   "execution_count": 230,
   "id": "ea5a3e8d",
   "metadata": {},
   "outputs": [
    {
     "name": "stdout",
     "output_type": "stream",
     "text": [
      "                            OLS Regression Results                            \n",
      "==============================================================================\n",
      "Dep. Variable:                 target   R-squared:                       0.845\n",
      "Model:                            OLS   Adj. R-squared:                  0.845\n",
      "Method:                 Least Squares   F-statistic:                 2.351e+04\n",
      "Date:                Sun, 17 Mar 2024   Prob (F-statistic):               0.00\n",
      "Time:                        18:47:21   Log-Likelihood:                -43661.\n",
      "No. Observations:               12914   AIC:                         8.733e+04\n",
      "Df Residuals:                   12910   BIC:                         8.736e+04\n",
      "Df Model:                           3                                         \n",
      "Covariance Type:            nonrobust                                         \n",
      "==============================================================================\n",
      "                 coef    std err          t      P>|t|      [0.025      0.975]\n",
      "------------------------------------------------------------------------------\n",
      "const          8.5744      0.243     35.232      0.000       8.097       9.051\n",
      "PRCP          -1.4332      0.166     -8.650      0.000      -1.758      -1.108\n",
      "TMAX           0.5136      0.012     43.758      0.000       0.491       0.537\n",
      "TMIN           0.4596      0.013     35.480      0.000       0.434       0.485\n",
      "==============================================================================\n",
      "Omnibus:                       16.473   Durbin-Watson:                   2.010\n",
      "Prob(Omnibus):                  0.000   Jarque-Bera (JB):               18.648\n",
      "Skew:                           0.034   Prob(JB):                     8.92e-05\n",
      "Kurtosis:                       3.173   Cond. No.                         326.\n",
      "==============================================================================\n",
      "\n",
      "Notes:\n",
      "[1] Standard Errors assume that the covariance matrix of the errors is correctly specified.\n"
     ]
    }
   ],
   "source": [
    "import statsmodels.api as sm\n",
    "from sklearn.model_selection import train_test_split\n",
    "\n",
    "data = processed[-1]\n",
    "y = data[\"target\"]\n",
    "x = data.loc[:, data.columns != \"target\"]\n",
    "x = sm.add_constant(x)\n",
    "\n",
    "X_train, X_test, y_train, y_test = train_test_split(x, y, test_size=0.2, random_state=42)\n",
    "\n",
    "result = sm.OLS(y_train, X_train).fit()\n",
    "print(result.summary())"
   ]
  },
  {
   "cell_type": "code",
   "execution_count": 231,
   "id": "9988adc2",
   "metadata": {},
   "outputs": [
    {
     "name": "stdout",
     "output_type": "stream",
     "text": [
      "Error: 49.698\n"
     ]
    },
    {
     "data": {
      "text/plain": [
       "<matplotlib.legend.Legend at 0x7f4e4c9d4430>"
      ]
     },
     "execution_count": 231,
     "metadata": {},
     "output_type": "execute_result"
    },
    {
     "data": {
      "image/png": "[encoded data removed]",
      "text/plain": [
       "<Figure size 640x480 with 1 Axes>"
      ]
     },
     "metadata": {},
     "output_type": "display_data"
    }
   ],
   "source": [
    "from sklearn.metrics import mean_squared_error\n",
    "y_pred = result.predict(X_test)\n",
    "print(f\"Error: {round(mean_squared_error(y_test, y_pred), 3)}\")\n",
    "years = X_test.index.year\n",
    "valid_years = years.value_counts().index\n",
    "plt.scatter(valid_years, y_test.groupby(years).mean(), label=\"True\")\n",
    "plt.scatter(valid_years, y_pred.groupby(years).mean(), label=\"Predicted\")\n",
    "plt.legend()"
   ]
  },
  {
   "cell_type": "code",
   "execution_count": 232,
   "id": "79610680",
   "metadata": {},
   "outputs": [
    {
     "data": {
      "image/png": "[encoded data removed]",
      "text/plain": [
       "<Figure size 1200x500 with 1 Axes>"
      ]
     },
     "metadata": {},
     "output_type": "display_data"
    }
   ],
   "source": [
    "ind = y_pred[y_pred.index.year == 2010].index\n",
    "fig, ax = plt.subplots(figsize=(12, 5))\n",
    "ax.scatter(ind, y_test[ind], s=5, label=\"True\")\n",
    "ax.scatter(ind, y_pred[ind], s=5, label=\"Predicted\")\n",
    "ax.legend()\n",
    "combined = pd.concat([y_pred[ind], y_test[ind]], axis=1)\n",
    "_ = ax.vlines(ind, ymin=combined.min(axis=1), ymax=combined.max(axis=1), colors=\"r\", lw=0.5)"
   ]
  },
  {
   "cell_type": "markdown",
   "id": "61907767",
   "metadata": {},
   "source": [
    "LSTM"
   ]
  },
  {
   "cell_type": "code",
   "execution_count": 233,
   "id": "c88ad2db",
   "metadata": {},
   "outputs": [
    {
     "name": "stdout",
     "output_type": "stream",
     "text": [
      "Train X shape: (12906, 10, 3)\n",
      "Train Y shape: (12906,)\n",
      "Test X shape: (3227, 10, 3)\n",
      "Test Y shape: (3227,)\n"
     ]
    }
   ],
   "source": [
    "from sklearn.preprocessing import MinMaxScaler\n",
    "\n",
    "# Normalize the data\n",
    "scaler = MinMaxScaler()\n",
    "data = data.loc[:, data.columns != \"target\"]\n",
    "scaled_data = scaler.fit_transform(data)\n",
    "\n",
    "# Define sequence length and features\n",
    "sequence_length = 10  # Number of time steps in each sequence\n",
    "\n",
    "# Create sequences and corresponding labels\n",
    "sequences = []\n",
    "labels = []\n",
    "for i in range(len(scaled_data) - sequence_length):\n",
    "    seq = scaled_data[i:i+sequence_length]\n",
    "    label = scaled_data[i+sequence_length][1]  # 'TMAX' column index\n",
    "    sequences.append(seq)\n",
    "    labels.append(label)\n",
    "\n",
    "# Convert to numpy arrays\n",
    "sequences = np.array(sequences)\n",
    "labels = np.array(labels)\n",
    "\n",
    "# Split into train and test sets\n",
    "train_size = int(0.8 * len(sequences))\n",
    "train_x, test_x = sequences[:train_size], sequences[train_size:]\n",
    "train_y, test_y = labels[:train_size], labels[train_size:]\n",
    "\n",
    "print(\"Train X shape:\", train_x.shape)\n",
    "print(\"Train Y shape:\", train_y.shape)\n",
    "print(\"Test X shape:\", test_x.shape)\n",
    "print(\"Test Y shape:\", test_y.shape)"
   ]
  },
  {
   "cell_type": "code",
   "execution_count": 234,
   "id": "2e78f9b3",
   "metadata": {},
   "outputs": [],
   "source": [
    "from tensorflow.keras.models import Sequential\n",
    "from tensorflow.keras.layers import LSTM, Dense, Dropout\n",
    "from tensorflow.keras.callbacks import EarlyStopping, ModelCheckpoint\n",
    "\n",
    "# Create the LSTM model\n",
    "model = Sequential()\n",
    "\n",
    "# Add LSTM layers with dropout\n",
    "model.add(LSTM(units=128, input_shape=(train_x.shape[1], train_x.shape[2]), return_sequences=True))\n",
    "model.add(Dropout(0.2))\n",
    "\n",
    "model.add(LSTM(units=256, return_sequences=True))\n",
    "model.add(Dropout(0.2))\n",
    "\n",
    "model.add(LSTM(units=128, return_sequences=False))\n",
    "model.add(Dropout(0.2))\n",
    "\n",
    "model.add(Dense(units=1))\n",
    "\n",
    "model.compile(optimizer='adam', loss='mean_squared_error')\n"
   ]
  },
  {
   "cell_type": "code",
   "execution_count": 235,
   "id": "0e7d0316",
   "metadata": {},
   "outputs": [
    {
     "name": "stdout",
     "output_type": "stream",
     "text": [
      "Model: \"sequential_10\"\n",
      "_________________________________________________________________\n",
      " Layer (type)                Output Shape              Param #   \n",
      "=================================================================\n",
      " lstm_22 (LSTM)              (None, 128)               67584     \n",
      "                                                                 \n",
      " dropout_22 (Dropout)        (None, 128)               0         \n",
      "                                                                 \n",
      " dense_12 (Dense)            (None, 1)                 129       \n",
      "                                                                 \n",
      "=================================================================\n",
      "Total params: 67713 (264.50 KB)\n",
      "Trainable params: 67713 (264.50 KB)\n",
      "Non-trainable params: 0 (0.00 Byte)\n",
      "_________________________________________________________________\n"
     ]
    }
   ],
   "source": [
    "model.summary()"
   ]
  },
  {
   "cell_type": "code",
   "execution_count": 236,
   "id": "af67eef8",
   "metadata": {},
   "outputs": [
    {
     "data": {
      "text/plain": [
       "[PhysicalDevice(name='/physical_device:CPU:0', device_type='CPU'),\n",
       " PhysicalDevice(name='/physical_device:GPU:0', device_type='GPU')]"
      ]
     },
     "execution_count": 236,
     "metadata": {},
     "output_type": "execute_result"
    }
   ],
   "source": [
    "import tensorflow as tf\n",
    "tf.config.list_physical_devices()"
   ]
  },
  {
   "cell_type": "code",
   "execution_count": 237,
   "id": "c0035abb",
   "metadata": {},
   "outputs": [
    {
     "name": "stdout",
     "output_type": "stream",
     "text": [
      "Epoch 1/100\n"
     ]
    },
    {
     "name": "stdout",
     "output_type": "stream",
     "text": [
      "162/162 [==============================] - 3s 11ms/step - loss: 0.0132 - val_loss: 0.0077\n",
      "Epoch 2/100\n",
      " 16/162 [=>............................] - ETA: 1s - loss: 0.0093"
     ]
    },
    {
     "name": "stderr",
     "output_type": "stream",
     "text": [
      "/home/efim-sokolov/.local/lib/python3.10/site-packages/keras/src/engine/training.py:3103: UserWarning: You are saving your model as an HDF5 file via `model.save()`. This file format is considered legacy. We recommend using instead the native Keras format, e.g. `model.save('my_model.keras')`.\n",
      "  saving_api.save_model(\n"
     ]
    },
    {
     "name": "stdout",
     "output_type": "stream",
     "text": [
      "162/162 [==============================] - 1s 8ms/step - loss: 0.0085 - val_loss: 0.0071\n",
      "Epoch 3/100\n",
      "162/162 [==============================] - 1s 8ms/step - loss: 0.0079 - val_loss: 0.0065\n",
      "Epoch 4/100\n",
      "162/162 [==============================] - 1s 8ms/step - loss: 0.0075 - val_loss: 0.0074\n",
      "Epoch 5/100\n",
      "162/162 [==============================] - 1s 9ms/step - loss: 0.0071 - val_loss: 0.0059\n",
      "Epoch 6/100\n",
      "162/162 [==============================] - 1s 9ms/step - loss: 0.0067 - val_loss: 0.0055\n",
      "Epoch 7/100\n",
      "162/162 [==============================] - 1s 8ms/step - loss: 0.0065 - val_loss: 0.0052\n",
      "Epoch 8/100\n",
      "162/162 [==============================] - 1s 8ms/step - loss: 0.0064 - val_loss: 0.0052\n",
      "Epoch 9/100\n",
      "162/162 [==============================] - 1s 9ms/step - loss: 0.0061 - val_loss: 0.0049\n",
      "Epoch 10/100\n",
      "162/162 [==============================] - 1s 8ms/step - loss: 0.0060 - val_loss: 0.0048\n",
      "Epoch 11/100\n",
      "162/162 [==============================] - 1s 8ms/step - loss: 0.0059 - val_loss: 0.0049\n",
      "Epoch 12/100\n",
      "162/162 [==============================] - 1s 8ms/step - loss: 0.0059 - val_loss: 0.0054\n",
      "Epoch 13/100\n",
      "162/162 [==============================] - 1s 8ms/step - loss: 0.0059 - val_loss: 0.0048\n",
      "Epoch 14/100\n",
      "162/162 [==============================] - 1s 8ms/step - loss: 0.0059 - val_loss: 0.0048\n",
      "Epoch 15/100\n",
      "162/162 [==============================] - 1s 9ms/step - loss: 0.0058 - val_loss: 0.0047\n",
      "Epoch 16/100\n",
      "162/162 [==============================] - 1s 8ms/step - loss: 0.0058 - val_loss: 0.0048\n",
      "Epoch 17/100\n",
      "162/162 [==============================] - 1s 8ms/step - loss: 0.0059 - val_loss: 0.0050\n",
      "Epoch 18/100\n",
      "162/162 [==============================] - 1s 8ms/step - loss: 0.0057 - val_loss: 0.0053\n",
      "Epoch 19/100\n",
      "162/162 [==============================] - 1s 8ms/step - loss: 0.0058 - val_loss: 0.0047\n",
      "Epoch 20/100\n",
      "162/162 [==============================] - 1s 8ms/step - loss: 0.0057 - val_loss: 0.0047\n",
      "Epoch 21/100\n",
      "162/162 [==============================] - 1s 8ms/step - loss: 0.0057 - val_loss: 0.0048\n",
      "Epoch 22/100\n",
      "162/162 [==============================] - 1s 9ms/step - loss: 0.0057 - val_loss: 0.0047\n",
      "Epoch 23/100\n",
      "162/162 [==============================] - 1s 8ms/step - loss: 0.0057 - val_loss: 0.0047\n",
      "Epoch 24/100\n",
      "162/162 [==============================] - 1s 8ms/step - loss: 0.0056 - val_loss: 0.0047\n",
      "Epoch 25/100\n",
      "162/162 [==============================] - 1s 8ms/step - loss: 0.0057 - val_loss: 0.0048\n",
      "Epoch 26/100\n",
      "162/162 [==============================] - 1s 8ms/step - loss: 0.0056 - val_loss: 0.0049\n",
      "Epoch 27/100\n",
      "162/162 [==============================] - 1s 8ms/step - loss: 0.0056 - val_loss: 0.0047\n",
      "Epoch 28/100\n",
      "162/162 [==============================] - 1s 9ms/step - loss: 0.0057 - val_loss: 0.0046\n",
      "Epoch 29/100\n",
      "162/162 [==============================] - 1s 9ms/step - loss: 0.0055 - val_loss: 0.0046\n",
      "Epoch 30/100\n",
      "162/162 [==============================] - 1s 8ms/step - loss: 0.0056 - val_loss: 0.0046\n",
      "Epoch 31/100\n",
      "162/162 [==============================] - 1s 8ms/step - loss: 0.0055 - val_loss: 0.0047\n",
      "Epoch 32/100\n",
      "162/162 [==============================] - 1s 8ms/step - loss: 0.0055 - val_loss: 0.0047\n",
      "Epoch 33/100\n",
      "162/162 [==============================] - 1s 8ms/step - loss: 0.0055 - val_loss: 0.0048\n",
      "Epoch 34/100\n",
      "162/162 [==============================] - 1s 8ms/step - loss: 0.0055 - val_loss: 0.0046\n",
      "Epoch 35/100\n",
      "162/162 [==============================] - 1s 8ms/step - loss: 0.0055 - val_loss: 0.0046\n",
      "Epoch 36/100\n",
      "162/162 [==============================] - 1s 8ms/step - loss: 0.0055 - val_loss: 0.0047\n",
      "Epoch 37/100\n",
      "162/162 [==============================] - 1s 8ms/step - loss: 0.0055 - val_loss: 0.0047\n",
      "Epoch 38/100\n",
      "162/162 [==============================] - 1s 8ms/step - loss: 0.0054 - val_loss: 0.0047\n",
      "Epoch 39/100\n",
      "162/162 [==============================] - 1s 8ms/step - loss: 0.0054 - val_loss: 0.0047\n",
      "Epoch 40/100\n",
      "162/162 [==============================] - 1s 8ms/step - loss: 0.0053 - val_loss: 0.0049\n",
      "Epoch 41/100\n",
      "162/162 [==============================] - 1s 8ms/step - loss: 0.0054 - val_loss: 0.0046\n",
      "Epoch 42/100\n",
      "162/162 [==============================] - 1s 8ms/step - loss: 0.0055 - val_loss: 0.0047\n",
      "Epoch 43/100\n",
      "162/162 [==============================] - 1s 8ms/step - loss: 0.0054 - val_loss: 0.0048\n",
      "Epoch 44/100\n",
      "162/162 [==============================] - 1s 8ms/step - loss: 0.0054 - val_loss: 0.0046\n",
      "Epoch 45/100\n",
      "162/162 [==============================] - 1s 8ms/step - loss: 0.0054 - val_loss: 0.0046\n",
      "Epoch 46/100\n",
      "162/162 [==============================] - 1s 9ms/step - loss: 0.0053 - val_loss: 0.0046\n",
      "Epoch 47/100\n",
      "162/162 [==============================] - 1s 9ms/step - loss: 0.0053 - val_loss: 0.0046\n",
      "Epoch 48/100\n",
      "162/162 [==============================] - 1s 9ms/step - loss: 0.0053 - val_loss: 0.0046\n",
      "Epoch 49/100\n",
      "162/162 [==============================] - 1s 8ms/step - loss: 0.0053 - val_loss: 0.0046\n",
      "Epoch 50/100\n",
      "162/162 [==============================] - 1s 8ms/step - loss: 0.0053 - val_loss: 0.0046\n",
      "Epoch 51/100\n",
      "162/162 [==============================] - 1s 8ms/step - loss: 0.0053 - val_loss: 0.0046\n",
      "Epoch 52/100\n",
      "162/162 [==============================] - 1s 8ms/step - loss: 0.0053 - val_loss: 0.0046\n",
      "Epoch 53/100\n",
      "162/162 [==============================] - 1s 9ms/step - loss: 0.0053 - val_loss: 0.0046\n",
      "Epoch 54/100\n",
      "162/162 [==============================] - 1s 8ms/step - loss: 0.0053 - val_loss: 0.0046\n",
      "Epoch 55/100\n",
      "162/162 [==============================] - 1s 8ms/step - loss: 0.0053 - val_loss: 0.0046\n",
      "Epoch 56/100\n",
      "162/162 [==============================] - 1s 8ms/step - loss: 0.0053 - val_loss: 0.0048\n",
      "Epoch 57/100\n",
      "162/162 [==============================] - 1s 9ms/step - loss: 0.0052 - val_loss: 0.0045\n",
      "Epoch 58/100\n",
      "162/162 [==============================] - 1s 9ms/step - loss: 0.0053 - val_loss: 0.0047\n",
      "Epoch 59/100\n",
      "162/162 [==============================] - 1s 8ms/step - loss: 0.0053 - val_loss: 0.0046\n",
      "Epoch 60/100\n",
      "162/162 [==============================] - 1s 9ms/step - loss: 0.0052 - val_loss: 0.0046\n",
      "Epoch 61/100\n",
      "162/162 [==============================] - 1s 8ms/step - loss: 0.0052 - val_loss: 0.0046\n",
      "Epoch 62/100\n",
      "162/162 [==============================] - 1s 8ms/step - loss: 0.0052 - val_loss: 0.0047\n",
      "Epoch 63/100\n",
      "162/162 [==============================] - 1s 9ms/step - loss: 0.0052 - val_loss: 0.0046\n",
      "Epoch 64/100\n",
      "162/162 [==============================] - 1s 8ms/step - loss: 0.0052 - val_loss: 0.0046\n",
      "Epoch 65/100\n",
      "162/162 [==============================] - 1s 8ms/step - loss: 0.0052 - val_loss: 0.0046\n",
      "Epoch 66/100\n",
      "162/162 [==============================] - 1s 9ms/step - loss: 0.0052 - val_loss: 0.0045\n",
      "Epoch 67/100\n",
      "162/162 [==============================] - 1s 8ms/step - loss: 0.0052 - val_loss: 0.0046\n",
      "Epoch 68/100\n",
      "162/162 [==============================] - 1s 8ms/step - loss: 0.0052 - val_loss: 0.0047\n",
      "Epoch 69/100\n",
      "162/162 [==============================] - 1s 9ms/step - loss: 0.0052 - val_loss: 0.0046\n",
      "Epoch 70/100\n",
      "162/162 [==============================] - 1s 8ms/step - loss: 0.0052 - val_loss: 0.0046\n",
      "Epoch 71/100\n",
      "162/162 [==============================] - 1s 8ms/step - loss: 0.0052 - val_loss: 0.0045\n",
      "Epoch 72/100\n",
      "162/162 [==============================] - 1s 9ms/step - loss: 0.0052 - val_loss: 0.0045\n",
      "Epoch 73/100\n",
      "162/162 [==============================] - 1s 8ms/step - loss: 0.0051 - val_loss: 0.0046\n",
      "Epoch 74/100\n",
      "162/162 [==============================] - 1s 8ms/step - loss: 0.0052 - val_loss: 0.0045\n",
      "Epoch 75/100\n",
      "162/162 [==============================] - 1s 9ms/step - loss: 0.0052 - val_loss: 0.0045\n",
      "Epoch 76/100\n",
      "162/162 [==============================] - 1s 9ms/step - loss: 0.0051 - val_loss: 0.0045\n",
      "Epoch 77/100\n",
      "162/162 [==============================] - 1s 9ms/step - loss: 0.0051 - val_loss: 0.0047\n",
      "Epoch 78/100\n",
      "162/162 [==============================] - 1s 9ms/step - loss: 0.0051 - val_loss: 0.0045\n",
      "Epoch 79/100\n",
      "162/162 [==============================] - 1s 9ms/step - loss: 0.0052 - val_loss: 0.0045\n",
      "Epoch 80/100\n",
      "162/162 [==============================] - 1s 9ms/step - loss: 0.0051 - val_loss: 0.0045\n",
      "Epoch 81/100\n",
      "162/162 [==============================] - 1s 9ms/step - loss: 0.0051 - val_loss: 0.0045\n",
      "Epoch 82/100\n",
      "162/162 [==============================] - 1s 8ms/step - loss: 0.0051 - val_loss: 0.0046\n",
      "Epoch 83/100\n",
      "162/162 [==============================] - 1s 8ms/step - loss: 0.0051 - val_loss: 0.0047\n",
      "Epoch 84/100\n",
      "162/162 [==============================] - 1s 9ms/step - loss: 0.0051 - val_loss: 0.0045\n",
      "Epoch 85/100\n",
      "162/162 [==============================] - 1s 9ms/step - loss: 0.0051 - val_loss: 0.0045\n",
      "Epoch 86/100\n",
      "162/162 [==============================] - 1s 8ms/step - loss: 0.0051 - val_loss: 0.0046\n",
      "Epoch 87/100\n",
      "162/162 [==============================] - 1s 8ms/step - loss: 0.0051 - val_loss: 0.0045\n",
      "Epoch 88/100\n",
      "162/162 [==============================] - 1s 8ms/step - loss: 0.0051 - val_loss: 0.0045\n",
      "Epoch 89/100\n",
      "162/162 [==============================] - 1s 8ms/step - loss: 0.0051 - val_loss: 0.0046\n",
      "Epoch 90/100\n",
      "162/162 [==============================] - 1s 8ms/step - loss: 0.0051 - val_loss: 0.0045\n",
      "Epoch 91/100\n",
      "162/162 [==============================] - 1s 8ms/step - loss: 0.0051 - val_loss: 0.0045\n",
      "Epoch 92/100\n",
      "162/162 [==============================] - 1s 8ms/step - loss: 0.0051 - val_loss: 0.0045\n",
      "Epoch 93/100\n",
      "162/162 [==============================] - 1s 9ms/step - loss: 0.0051 - val_loss: 0.0045\n",
      "Epoch 94/100\n",
      "162/162 [==============================] - 1s 9ms/step - loss: 0.0051 - val_loss: 0.0046\n",
      "Epoch 95/100\n",
      "162/162 [==============================] - 1s 8ms/step - loss: 0.0051 - val_loss: 0.0046\n",
      "Epoch 96/100\n",
      "162/162 [==============================] - 1s 8ms/step - loss: 0.0051 - val_loss: 0.0045\n",
      "Epoch 97/100\n",
      "162/162 [==============================] - 1s 8ms/step - loss: 0.0051 - val_loss: 0.0045\n",
      "Epoch 98/100\n",
      "162/162 [==============================] - 1s 8ms/step - loss: 0.0051 - val_loss: 0.0045\n",
      "Epoch 99/100\n",
      "162/162 [==============================] - 1s 8ms/step - loss: 0.0051 - val_loss: 0.0045\n",
      "Epoch 100/100\n",
      "162/162 [==============================] - 1s 8ms/step - loss: 0.0051 - val_loss: 0.0046\n"
     ]
    }
   ],
   "source": [
    "early_stopping = EarlyStopping(monitor='val_loss', patience=15, restore_best_weights=True)\n",
    "model_checkpoint = ModelCheckpoint('./best_model_weights.h5', monitor='val_loss', save_best_only=True)\n",
    "\n",
    "\n",
    "history = model.fit(\n",
    "    train_x, train_y,\n",
    "    epochs=100,\n",
    "    batch_size=64,\n",
    "    validation_split=0.2,  # Use part of the training data as validation\n",
    "    callbacks=[early_stopping, model_checkpoint]\n",
    ")\n",
    "\n",
    "# load model\n",
    "# model = tf.keras.models.load_model('./best_model_weights.h5')"
   ]
  },
  {
   "cell_type": "code",
   "execution_count": 238,
   "id": "16b74bad",
   "metadata": {},
   "outputs": [
    {
     "data": {
      "image/png": "[encoded data removed]",
      "text/plain": [
       "<Figure size 640x480 with 1 Axes>"
      ]
     },
     "metadata": {},
     "output_type": "display_data"
    }
   ],
   "source": [
    "# Plot training & validation loss values\n",
    "plt.plot(history.history['loss'])\n",
    "plt.plot(history.history['val_loss'])\n",
    "plt.title('Model Loss')\n",
    "plt.xlabel('Epoch')\n",
    "plt.ylabel('Loss')\n",
    "plt.legend(['Train', 'Validation'], loc='upper right')\n",
    "plt.show()"
   ]
  },
  {
   "cell_type": "code",
   "execution_count": 239,
   "id": "12668db6",
   "metadata": {},
   "outputs": [
    {
     "name": "stdout",
     "output_type": "stream",
     "text": [
      "101/101 [==============================] - 1s 4ms/step\n"
     ]
    }
   ],
   "source": [
    "y_pred = model.predict(test_x)"
   ]
  },
  {
   "cell_type": "code",
   "execution_count": 240,
   "id": "fa6f7b7c",
   "metadata": {},
   "outputs": [],
   "source": [
    "pred = sm.add_constant(y_pred)\n",
    "pred = sm.add_constant(pred, prepend=False, has_constant=\"add\")\n",
    "pred = scaler.inverse_transform(pred)[:, 1]"
   ]
  },
  {
   "cell_type": "code",
   "execution_count": 241,
   "id": "11f62c6e",
   "metadata": {},
   "outputs": [],
   "source": [
    "true = sm.add_constant(test_y)\n",
    "true = sm.add_constant(true, prepend=False, has_constant=\"add\")\n",
    "true = scaler.inverse_transform(true)[:, 1]"
   ]
  },
  {
   "cell_type": "code",
   "execution_count": 242,
   "id": "2d4af465",
   "metadata": {},
   "outputs": [
    {
     "data": {
      "text/plain": [
       "44.56857845945909"
      ]
     },
     "execution_count": 242,
     "metadata": {},
     "output_type": "execute_result"
    }
   ],
   "source": [
    "mean_squared_error(true, pred)"
   ]
  },
  {
   "cell_type": "code",
   "execution_count": 243,
   "id": "7e0db200",
   "metadata": {},
   "outputs": [
    {
     "data": {
      "image/png": "[encoded data removed]",
      "text/plain": [
       "<Figure size 1000x600 with 1 Axes>"
      ]
     },
     "metadata": {},
     "output_type": "display_data"
    }
   ],
   "source": [
    "# Plotting predicted and actual temperatures\n",
    "plt.figure(figsize=(10, 6))\n",
    "plt.plot(data.index[-100:], true[-100:], label='True')\n",
    "plt.plot(data.index[-100:], pred[-100:], label='Predicted')\n",
    "plt.title('Temperature Prediction vs Actual')\n",
    "plt.xlabel('Time')\n",
    "plt.ylabel('Temperature')\n",
    "plt.legend()\n",
    "plt.show()\n",
    "     "
   ]
  }
 ],
 "metadata": {
  "kernelspec": {
   "display_name": "Python 3 (ipykernel)",
   "language": "python",
   "name": "python3"
  },
  "language_info": {
   "codemirror_mode": {
    "name": "ipython",
    "version": 3
   },
   "file_extension": ".py",
   "mimetype": "text/x-python",
   "name": "python",
   "nbconvert_exporter": "python",
   "pygments_lexer": "ipython3",
   "version": "3.10.12"
  }
 },
 "nbformat": 4,
 "nbformat_minor": 5
}
